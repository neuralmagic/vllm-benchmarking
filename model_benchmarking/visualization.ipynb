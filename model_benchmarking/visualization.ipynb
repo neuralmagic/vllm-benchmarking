{
 "cells": [
  {
   "cell_type": "code",
   "execution_count": null,
   "metadata": {},
   "outputs": [],
   "source": [
    "!pip install -U pandas matplotlib pyarrow"
   ]
  },
  {
   "cell_type": "code",
   "execution_count": null,
   "metadata": {},
   "outputs": [],
   "source": [
    "%matplotlib inline"
   ]
  },
  {
   "cell_type": "code",
   "execution_count": 10,
   "metadata": {},
   "outputs": [
    {
     "data": {
      "text/html": [
       "<div>\n",
       "<style scoped>\n",
       "    .dataframe tbody tr th:only-of-type {\n",
       "        vertical-align: middle;\n",
       "    }\n",
       "\n",
       "    .dataframe tbody tr th {\n",
       "        vertical-align: top;\n",
       "    }\n",
       "\n",
       "    .dataframe thead th {\n",
       "        text-align: right;\n",
       "    }\n",
       "</style>\n",
       "<table border=\"1\" class=\"dataframe\">\n",
       "  <thead>\n",
       "    <tr style=\"text-align: right;\">\n",
       "      <th></th>\n",
       "      <th>model_id</th>\n",
       "      <th>seq_len</th>\n",
       "      <th>batch_size</th>\n",
       "      <th>weight_type</th>\n",
       "      <th>tput</th>\n",
       "      <th>tput_per_usr</th>\n",
       "      <th>num_tokens</th>\n",
       "    </tr>\n",
       "  </thead>\n",
       "  <tbody>\n",
       "    <tr>\n",
       "      <th>0</th>\n",
       "      <td>NousResearch/Nous-Hermes-Llama2-13b</td>\n",
       "      <td>1</td>\n",
       "      <td>1</td>\n",
       "      <td>fp16</td>\n",
       "      <td>53.088570</td>\n",
       "      <td>53.088570</td>\n",
       "      <td>1</td>\n",
       "    </tr>\n",
       "    <tr>\n",
       "      <th>1</th>\n",
       "      <td>NousResearch/Nous-Hermes-Llama2-13b</td>\n",
       "      <td>1</td>\n",
       "      <td>4</td>\n",
       "      <td>fp16</td>\n",
       "      <td>212.542346</td>\n",
       "      <td>53.135587</td>\n",
       "      <td>4</td>\n",
       "    </tr>\n",
       "    <tr>\n",
       "      <th>2</th>\n",
       "      <td>NousResearch/Nous-Hermes-Llama2-13b</td>\n",
       "      <td>1</td>\n",
       "      <td>8</td>\n",
       "      <td>fp16</td>\n",
       "      <td>418.249423</td>\n",
       "      <td>52.281178</td>\n",
       "      <td>8</td>\n",
       "    </tr>\n",
       "    <tr>\n",
       "      <th>3</th>\n",
       "      <td>NousResearch/Nous-Hermes-Llama2-13b</td>\n",
       "      <td>1</td>\n",
       "      <td>16</td>\n",
       "      <td>fp16</td>\n",
       "      <td>798.172712</td>\n",
       "      <td>49.885794</td>\n",
       "      <td>16</td>\n",
       "    </tr>\n",
       "    <tr>\n",
       "      <th>4</th>\n",
       "      <td>NousResearch/Nous-Hermes-Llama2-13b</td>\n",
       "      <td>1</td>\n",
       "      <td>32</td>\n",
       "      <td>fp16</td>\n",
       "      <td>1527.452575</td>\n",
       "      <td>47.732893</td>\n",
       "      <td>32</td>\n",
       "    </tr>\n",
       "  </tbody>\n",
       "</table>\n",
       "</div>"
      ],
      "text/plain": [
       "                              model_id  seq_len  batch_size weight_type  \\\n",
       "0  NousResearch/Nous-Hermes-Llama2-13b        1           1        fp16   \n",
       "1  NousResearch/Nous-Hermes-Llama2-13b        1           4        fp16   \n",
       "2  NousResearch/Nous-Hermes-Llama2-13b        1           8        fp16   \n",
       "3  NousResearch/Nous-Hermes-Llama2-13b        1          16        fp16   \n",
       "4  NousResearch/Nous-Hermes-Llama2-13b        1          32        fp16   \n",
       "\n",
       "          tput  tput_per_usr  num_tokens  \n",
       "0    53.088570     53.088570           1  \n",
       "1   212.542346     53.135587           4  \n",
       "2   418.249423     52.281178           8  \n",
       "3   798.172712     49.885794          16  \n",
       "4  1527.452575     47.732893          32  "
      ]
     },
     "execution_count": 10,
     "metadata": {},
     "output_type": "execute_result"
    }
   ],
   "source": [
    "import pandas as pd\n",
    "\n",
    "df = pd.read_csv(\"/network/rshaw/vllm-benchmarking/model_benchmarking/a100_results/results.csv\")\n",
    "\n",
    "df[\"tput_per_usr\"] = df[\"tput\"] / df[\"batch_size\"]\n",
    "df[\"num_tokens\"] = df[\"seq_len\"] * df[\"batch_size\"]\n",
    "df.head()"
   ]
  },
  {
   "cell_type": "code",
   "execution_count": 17,
   "metadata": {},
   "outputs": [],
   "source": [
    "def process_results(df, title, weight_types=[\"fp16\", \"gptq\", \"marlin\"]):\n",
    "    df_decode = df[df[\"seq_len\"] == 1]\n",
    "    df_prefill = df[df[\"seq_len\"] > 1]\n",
    "    \n",
    "    fig = plt.figure(figsize=(15, 5))\n",
    "    fig.suptitle(title)\n",
    "    \n",
    "    ax1 = fig.add_subplot(121)\n",
    "    ax2 = fig.add_subplot(122)\n",
    "\n",
    "    title_decode = f\"Decode\"\n",
    "    title_prefill = f\"Prefill (B=1)\"\n",
    "\n",
    "    scatter_tput(ax1, df_decode, title=title_decode, xlabel=\"Batch Size\", weight_types=weight_types)\n",
    "    scatter_tput(ax2, df_prefill, title=title_prefill, xlabel=\"Seq Len\", weight_types=weight_types)\n",
    "\n",
    "def scatter_tput(ax, df, title, xlabel, weight_types):\n",
    "    ax.set_title(title)\n",
    "    ax.set_xlabel(xlabel)\n",
    "    ax.set_ylabel(\"Layer Tok/Sec\")\n",
    "\n",
    "    for weight_type in weight_types:\n",
    "        df_ = df[df[\"weight_type\"] == weight_type]\n",
    "        ax.scatter(df_[\"num_tokens\"], df_[\"tput\"], label=weight_type)\n",
    "    ax.legend(loc='lower right')"
   ]
  },
  {
   "cell_type": "code",
   "execution_count": 19,
   "metadata": {},
   "outputs": [
    {
     "data": {
      "image/png": "[encoded data removed]",
      "text/plain": [
       "<Figure size 1500x500 with 2 Axes>"
      ]
     },
     "metadata": {},
     "output_type": "display_data"
    }
   ],
   "source": [
    "import matplotlib.pyplot as plt\n",
    "\n",
    "process_results(df, title=\"vllm llama-13b 1xA100\")"
   ]
  },
  {
   "cell_type": "code",
   "execution_count": 20,
   "metadata": {},
   "outputs": [
    {
     "data": {
      "text/html": [
       "<div>\n",
       "<style scoped>\n",
       "    .dataframe tbody tr th:only-of-type {\n",
       "        vertical-align: middle;\n",
       "    }\n",
       "\n",
       "    .dataframe tbody tr th {\n",
       "        vertical-align: top;\n",
       "    }\n",
       "\n",
       "    .dataframe thead th {\n",
       "        text-align: right;\n",
       "    }\n",
       "</style>\n",
       "<table border=\"1\" class=\"dataframe\">\n",
       "  <thead>\n",
       "    <tr style=\"text-align: right;\">\n",
       "      <th></th>\n",
       "      <th>model_id</th>\n",
       "      <th>seq_len</th>\n",
       "      <th>batch_size</th>\n",
       "      <th>weight_type</th>\n",
       "      <th>tput</th>\n",
       "      <th>tput_per_usr</th>\n",
       "      <th>num_tokens</th>\n",
       "    </tr>\n",
       "  </thead>\n",
       "  <tbody>\n",
       "    <tr>\n",
       "      <th>11</th>\n",
       "      <td>NousResearch/Nous-Hermes-Llama2-13b</td>\n",
       "      <td>512</td>\n",
       "      <td>1</td>\n",
       "      <td>fp16</td>\n",
       "      <td>6968.331903</td>\n",
       "      <td>6968.331903</td>\n",
       "      <td>512</td>\n",
       "    </tr>\n",
       "    <tr>\n",
       "      <th>26</th>\n",
       "      <td>TheBloke/Llama-2-13B-chat-GPTQ</td>\n",
       "      <td>512</td>\n",
       "      <td>1</td>\n",
       "      <td>gptq</td>\n",
       "      <td>5602.706207</td>\n",
       "      <td>5602.706207</td>\n",
       "      <td>512</td>\n",
       "    </tr>\n",
       "    <tr>\n",
       "      <th>41</th>\n",
       "      <td>robertgshaw2/llama-2-13b-chat-marlin</td>\n",
       "      <td>512</td>\n",
       "      <td>1</td>\n",
       "      <td>marlin</td>\n",
       "      <td>5558.997361</td>\n",
       "      <td>5558.997361</td>\n",
       "      <td>512</td>\n",
       "    </tr>\n",
       "  </tbody>\n",
       "</table>\n",
       "</div>"
      ],
      "text/plain": [
       "                                model_id  seq_len  batch_size weight_type  \\\n",
       "11   NousResearch/Nous-Hermes-Llama2-13b      512           1        fp16   \n",
       "26        TheBloke/Llama-2-13B-chat-GPTQ      512           1        gptq   \n",
       "41  robertgshaw2/llama-2-13b-chat-marlin      512           1      marlin   \n",
       "\n",
       "           tput  tput_per_usr  num_tokens  \n",
       "11  6968.331903   6968.331903         512  \n",
       "26  5602.706207   5602.706207         512  \n",
       "41  5558.997361   5558.997361         512  "
      ]
     },
     "execution_count": 20,
     "metadata": {},
     "output_type": "execute_result"
    }
   ],
   "source": [
    "df[df[\"seq_len\"] == 512]"
   ]
  },
  {
   "cell_type": "code",
   "execution_count": 21,
   "metadata": {},
   "outputs": [
    {
     "data": {
      "text/html": [
       "<div>\n",
       "<style scoped>\n",
       "    .dataframe tbody tr th:only-of-type {\n",
       "        vertical-align: middle;\n",
       "    }\n",
       "\n",
       "    .dataframe tbody tr th {\n",
       "        vertical-align: top;\n",
       "    }\n",
       "\n",
       "    .dataframe thead th {\n",
       "        text-align: right;\n",
       "    }\n",
       "</style>\n",
       "<table border=\"1\" class=\"dataframe\">\n",
       "  <thead>\n",
       "    <tr style=\"text-align: right;\">\n",
       "      <th></th>\n",
       "      <th>model_id</th>\n",
       "      <th>seq_len</th>\n",
       "      <th>batch_size</th>\n",
       "      <th>weight_type</th>\n",
       "      <th>tput</th>\n",
       "      <th>tput_per_usr</th>\n",
       "      <th>num_tokens</th>\n",
       "    </tr>\n",
       "  </thead>\n",
       "  <tbody>\n",
       "    <tr>\n",
       "      <th>12</th>\n",
       "      <td>NousResearch/Nous-Hermes-Llama2-13b</td>\n",
       "      <td>1024</td>\n",
       "      <td>1</td>\n",
       "      <td>fp16</td>\n",
       "      <td>7231.378287</td>\n",
       "      <td>7231.378287</td>\n",
       "      <td>1024</td>\n",
       "    </tr>\n",
       "    <tr>\n",
       "      <th>27</th>\n",
       "      <td>TheBloke/Llama-2-13B-chat-GPTQ</td>\n",
       "      <td>1024</td>\n",
       "      <td>1</td>\n",
       "      <td>gptq</td>\n",
       "      <td>6828.723679</td>\n",
       "      <td>6828.723679</td>\n",
       "      <td>1024</td>\n",
       "    </tr>\n",
       "    <tr>\n",
       "      <th>42</th>\n",
       "      <td>robertgshaw2/llama-2-13b-chat-marlin</td>\n",
       "      <td>1024</td>\n",
       "      <td>1</td>\n",
       "      <td>marlin</td>\n",
       "      <td>5566.290221</td>\n",
       "      <td>5566.290221</td>\n",
       "      <td>1024</td>\n",
       "    </tr>\n",
       "  </tbody>\n",
       "</table>\n",
       "</div>"
      ],
      "text/plain": [
       "                                model_id  seq_len  batch_size weight_type  \\\n",
       "12   NousResearch/Nous-Hermes-Llama2-13b     1024           1        fp16   \n",
       "27        TheBloke/Llama-2-13B-chat-GPTQ     1024           1        gptq   \n",
       "42  robertgshaw2/llama-2-13b-chat-marlin     1024           1      marlin   \n",
       "\n",
       "           tput  tput_per_usr  num_tokens  \n",
       "12  7231.378287   7231.378287        1024  \n",
       "27  6828.723679   6828.723679        1024  \n",
       "42  5566.290221   5566.290221        1024  "
      ]
     },
     "execution_count": 21,
     "metadata": {},
     "output_type": "execute_result"
    }
   ],
   "source": [
    "df[df[\"seq_len\"] == 1024]"
   ]
  },
  {
   "cell_type": "code",
   "execution_count": null,
   "metadata": {},
   "outputs": [],
   "source": []
  }
 ],
 "metadata": {
  "kernelspec": {
   "display_name": "vllm-env",
   "language": "python",
   "name": "python3"
  },
  "language_info": {
   "codemirror_mode": {
    "name": "ipython",
    "version": 3
   },
   "file_extension": ".py",
   "mimetype": "text/x-python",
   "name": "python",
   "nbconvert_exporter": "python",
   "pygments_lexer": "ipython3",
   "version": "3.10.13"
  }
 },
 "nbformat": 4,
 "nbformat_minor": 2
}
