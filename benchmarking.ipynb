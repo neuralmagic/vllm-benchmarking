{
 "cells": [
  {
   "cell_type": "code",
   "execution_count": 1,
   "metadata": {},
   "outputs": [
    {
     "name": "stderr",
     "output_type": "stream",
     "text": [
      "/home/ubuntu/.conda/envs/vllm-env/lib/python3.9/site-packages/tqdm/auto.py:21: TqdmWarning: IProgress not found. Please update jupyter and ipywidgets. See https://ipywidgets.readthedocs.io/en/stable/user_install.html\n",
      "  from .autonotebook import tqdm as notebook_tqdm\n",
      "2024-01-10 01:13:33,007\tINFO util.py:154 -- Missing packages: ['ipywidgets']. Run `pip install -U ipywidgets`, then restart the notebook server for rich notebook output.\n"
     ]
    },
    {
     "name": "stdout",
     "output_type": "stream",
     "text": [
      "INFO 01-10 01:13:33 llm_engine.py:70] Initializing an LLM engine with config: model='meta-llama/Llama-2-7b-chat-hf', tokenizer='meta-llama/Llama-2-7b-chat-hf', tokenizer_mode=auto, revision=None, tokenizer_revision=None, trust_remote_code=False, dtype=torch.float16, max_seq_len=4096, download_dir=None, load_format=auto, tensor_parallel_size=1, quantization=None, enforce_eager=False, seed=0)\n",
      "INFO 01-10 01:13:39 llm_engine.py:275] # GPU blocks: 815, # CPU blocks: 512\n",
      "INFO 01-10 01:13:41 model_runner.py:501] Capturing the model for CUDA graphs. This may lead to unexpected consequences if the model is not static. To run the model in eager mode, set 'enforce_eager=True' or use '--enforce-eager' in the CLI.\n",
      "INFO 01-10 01:13:41 model_runner.py:505] CUDA graphs can take additional 1~3 GiB memory per GPU. If you are running out of memory, consider decreasing `gpu_memory_utilization` or enforcing eager mode.\n",
      "INFO 01-10 01:13:49 model_runner.py:547] Graph capturing finished in 8 secs.\n"
     ]
    }
   ],
   "source": [
    "import torch\n",
    "from vllm import LLM, SamplingParams\n",
    "\n",
    "model = LLM(model=\"meta-llama/Llama-2-7b-chat-hf\")"
   ]
  },
  {
   "cell_type": "code",
   "execution_count": 62,
   "metadata": {},
   "outputs": [
    {
     "name": "stderr",
     "output_type": "stream",
     "text": [
      "Processed prompts: 100%|██████████| 1/1 [00:00<00:00,  1.03it/s]\n"
     ]
    }
   ],
   "source": [
    "params = SamplingParams(max_tokens=32)\n",
    "prompts = [\"In a galaxy far, far away, a\"]\n",
    "\n",
    "outputs = model.generate(prompts, params)"
   ]
  },
  {
   "cell_type": "code",
   "execution_count": 66,
   "metadata": {},
   "outputs": [
    {
     "name": "stdout",
     "output_type": "stream",
     "text": [
      " grumpy old Mandalorian named Karga helps a young adventurer named Carlos on his quest to find a rare artifact. But when they are confront\n",
      "[867, 398, 2272, 2030, 15419, 284, 272, 713, 4257, 476, 21899, 6911, 263, 4123, 17623, 9945, 4257, 10815, 373, 670, 21126, 304, 1284, 263, 10812, 24238, 29889, 1205, 746, 896, 526, 21751]\n",
      "[1, 512, 263, 15400, 29891, 2215, 29892, 2215, 3448, 29892, 263]\n"
     ]
    }
   ],
   "source": [
    "print(outputs[0].outputs[0].text)\n",
    "print(outputs[0].outputs[0].token_ids)\n",
    "print(outputs[0].prompt_token_ids)"
   ]
  },
  {
   "cell_type": "code",
   "execution_count": 35,
   "metadata": {},
   "outputs": [],
   "source": [
    "import time\n",
    "def get_decode_tput(batch_size=1, num_tokens=256):\n",
    "    prompts = [\"Hello\"] * batch_size\n",
    "    sampling_params = SamplingParams(max_tokens=num_tokens, ignore_eos=True)\n",
    "\n",
    "    start = time.perf_counter()\n",
    "    outputs = model.generate(prompts, sampling_params)\n",
    "    torch.cuda.synchronize()\n",
    "    end = time.perf_counter()\n",
    "\n",
    "    total_time = end - start\n",
    "    total_tokens = 0\n",
    "    for output in outputs:\n",
    "        total_tokens += len(output.outputs[0].token_ids)\n",
    "\n",
    "    print(f\"----- Batch Size: {batch_size} -----\")\n",
    "    print(f\"Total time: {total_time:0.2f}s\")\n",
    "    print(f\"Total tokens: {total_tokens} tokens\")\n",
    "    print(f\"Tput: {total_tokens / total_time:0.2f} tokens/sec\")"
   ]
  },
  {
   "cell_type": "code",
   "execution_count": 36,
   "metadata": {},
   "outputs": [
    {
     "name": "stderr",
     "output_type": "stream",
     "text": [
      "Processed prompts: 100%|██████████| 1/1 [00:07<00:00,  7.75s/it]\n"
     ]
    },
    {
     "name": "stdout",
     "output_type": "stream",
     "text": [
      "----- Batch Size: 1 -----\n",
      "Total time: 7.76s\n",
      "Total tokens: 256 tokens\n",
      "Tput: 33.01 tokens/sec\n"
     ]
    },
    {
     "name": "stderr",
     "output_type": "stream",
     "text": [
      "Processed prompts: 100%|██████████| 2/2 [00:07<00:00,  3.87s/it]\n"
     ]
    },
    {
     "name": "stdout",
     "output_type": "stream",
     "text": [
      "----- Batch Size: 2 -----\n",
      "Total time: 7.74s\n",
      "Total tokens: 512 tokens\n",
      "Tput: 66.15 tokens/sec\n"
     ]
    },
    {
     "name": "stderr",
     "output_type": "stream",
     "text": [
      "Processed prompts: 100%|██████████| 4/4 [00:07<00:00,  1.97s/it]\n"
     ]
    },
    {
     "name": "stdout",
     "output_type": "stream",
     "text": [
      "----- Batch Size: 4 -----\n",
      "Total time: 7.88s\n",
      "Total tokens: 1024 tokens\n",
      "Tput: 129.90 tokens/sec\n"
     ]
    },
    {
     "name": "stderr",
     "output_type": "stream",
     "text": [
      "Processed prompts: 100%|██████████| 8/8 [00:08<00:00,  1.02s/it]\n"
     ]
    },
    {
     "name": "stdout",
     "output_type": "stream",
     "text": [
      "----- Batch Size: 8 -----\n",
      "Total time: 8.13s\n",
      "Total tokens: 2048 tokens\n",
      "Tput: 252.05 tokens/sec\n"
     ]
    },
    {
     "name": "stderr",
     "output_type": "stream",
     "text": [
      "Processed prompts: 100%|██████████| 16/16 [00:08<00:00,  1.81it/s]\n"
     ]
    },
    {
     "name": "stdout",
     "output_type": "stream",
     "text": [
      "----- Batch Size: 16 -----\n",
      "Total time: 8.84s\n",
      "Total tokens: 4096 tokens\n",
      "Tput: 463.17 tokens/sec\n"
     ]
    },
    {
     "name": "stderr",
     "output_type": "stream",
     "text": [
      "Processed prompts: 100%|██████████| 32/32 [00:10<00:00,  3.10it/s]\n"
     ]
    },
    {
     "name": "stdout",
     "output_type": "stream",
     "text": [
      "----- Batch Size: 32 -----\n",
      "Total time: 10.33s\n",
      "Total tokens: 8192 tokens\n",
      "Tput: 792.81 tokens/sec\n"
     ]
    },
    {
     "name": "stderr",
     "output_type": "stream",
     "text": [
      "Processed prompts: 100%|██████████| 64/64 [00:15<00:00,  4.02it/s]"
     ]
    },
    {
     "name": "stdout",
     "output_type": "stream",
     "text": [
      "----- Batch Size: 64 -----\n",
      "Total time: 15.94s\n",
      "Total tokens: 16384 tokens\n",
      "Tput: 1027.81 tokens/sec\n"
     ]
    },
    {
     "name": "stderr",
     "output_type": "stream",
     "text": [
      "\n"
     ]
    }
   ],
   "source": [
    "batch_sizes = [1,2,4,8,16,32,64]\n",
    "NUM_TOKENS = 256\n",
    "\n",
    "for batch_size in batch_sizes:\n",
    "    get_decode_tput(batch_size, NUM_TOKENS)"
   ]
  },
  {
   "cell_type": "code",
   "execution_count": 44,
   "metadata": {},
   "outputs": [],
   "source": [
    "def get_prefill_tput(num_words, iterations=10):\n",
    "    prompts = (\"Hello_\" * num_words)[:-1]\n",
    "    sampling_params = SamplingParams(max_tokens=1)\n",
    "\n",
    "    start = time.perf_counter()\n",
    "    for _ in range(iterations):\n",
    "        outputs = model.generate(prompts, sampling_params)\n",
    "    torch.cuda.synchronize()\n",
    "    end = time.perf_counter()\n",
    "\n",
    "    total_time = end - start\n",
    "    prompt_tokens = len(outputs[0].prompt_token_ids)\n",
    "    total_tokens = prompt_tokens * iterations\n",
    "\n",
    "    print(f\"\\n----- Prompt Tokens: {prompt_tokens} -----\")\n",
    "    print(f\"Total time: {total_time:0.2f}s\")\n",
    "    print(f\"Total tokens: {total_tokens} tokens\")\n",
    "    print(f\"Tput: {total_tokens / total_time:0.2f} tokens/sec\\n\")"
   ]
  },
  {
   "cell_type": "code",
   "execution_count": 45,
   "metadata": {},
   "outputs": [
    {
     "name": "stderr",
     "output_type": "stream",
     "text": [
      "Processed prompts: 100%|██████████| 1/1 [00:00<00:00, 28.18it/s]\n",
      "Processed prompts: 100%|██████████| 1/1 [00:00<00:00, 28.73it/s]\n",
      "Processed prompts: 100%|██████████| 1/1 [00:00<00:00, 28.79it/s]\n",
      "Processed prompts: 100%|██████████| 1/1 [00:00<00:00, 28.90it/s]\n",
      "Processed prompts: 100%|██████████| 1/1 [00:00<00:00, 28.98it/s]\n",
      "Processed prompts: 100%|██████████| 1/1 [00:00<00:00, 28.99it/s]\n",
      "Processed prompts: 100%|██████████| 1/1 [00:00<00:00, 28.94it/s]\n",
      "Processed prompts: 100%|██████████| 1/1 [00:00<00:00, 29.08it/s]\n",
      "Processed prompts: 100%|██████████| 1/1 [00:00<00:00, 28.92it/s]\n",
      "Processed prompts: 100%|██████████| 1/1 [00:00<00:00, 28.85it/s]\n"
     ]
    },
    {
     "name": "stdout",
     "output_type": "stream",
     "text": [
      "\n",
      "----- Prompt Tokens: 32 -----\n",
      "Total time: 0.37s\n",
      "Total tokens: 320 tokens\n",
      "Tput: 874.93 tokens/sec\n",
      "\n"
     ]
    },
    {
     "name": "stderr",
     "output_type": "stream",
     "text": [
      "Processed prompts: 100%|██████████| 1/1 [00:00<00:00, 24.15it/s]\n",
      "Processed prompts: 100%|██████████| 1/1 [00:00<00:00, 24.29it/s]\n",
      "Processed prompts: 100%|██████████| 1/1 [00:00<00:00, 24.39it/s]\n",
      "Processed prompts: 100%|██████████| 1/1 [00:00<00:00, 24.28it/s]\n",
      "Processed prompts: 100%|██████████| 1/1 [00:00<00:00, 24.29it/s]\n",
      "Processed prompts: 100%|██████████| 1/1 [00:00<00:00, 24.43it/s]\n",
      "Processed prompts: 100%|██████████| 1/1 [00:00<00:00, 24.40it/s]\n",
      "Processed prompts: 100%|██████████| 1/1 [00:00<00:00, 24.44it/s]\n",
      "Processed prompts: 100%|██████████| 1/1 [00:00<00:00, 24.45it/s]\n",
      "Processed prompts: 100%|██████████| 1/1 [00:00<00:00, 24.42it/s]\n"
     ]
    },
    {
     "name": "stdout",
     "output_type": "stream",
     "text": [
      "\n",
      "----- Prompt Tokens: 128 -----\n",
      "Total time: 0.43s\n",
      "Total tokens: 1280 tokens\n",
      "Tput: 2977.90 tokens/sec\n",
      "\n"
     ]
    },
    {
     "name": "stderr",
     "output_type": "stream",
     "text": [
      "Processed prompts: 100%|██████████| 1/1 [00:00<00:00, 13.93it/s]\n",
      "Processed prompts: 100%|██████████| 1/1 [00:00<00:00, 14.02it/s]\n",
      "Processed prompts: 100%|██████████| 1/1 [00:00<00:00, 14.01it/s]\n",
      "Processed prompts: 100%|██████████| 1/1 [00:00<00:00, 14.02it/s]\n",
      "Processed prompts: 100%|██████████| 1/1 [00:00<00:00, 14.05it/s]\n",
      "Processed prompts: 100%|██████████| 1/1 [00:00<00:00, 14.06it/s]\n",
      "Processed prompts: 100%|██████████| 1/1 [00:00<00:00, 14.01it/s]\n",
      "Processed prompts: 100%|██████████| 1/1 [00:00<00:00, 14.04it/s]\n",
      "Processed prompts: 100%|██████████| 1/1 [00:00<00:00, 13.98it/s]\n",
      "Processed prompts: 100%|██████████| 1/1 [00:00<00:00, 14.00it/s]\n"
     ]
    },
    {
     "name": "stdout",
     "output_type": "stream",
     "text": [
      "\n",
      "----- Prompt Tokens: 256 -----\n",
      "Total time: 0.73s\n",
      "Total tokens: 2560 tokens\n",
      "Tput: 3495.64 tokens/sec\n",
      "\n"
     ]
    },
    {
     "name": "stderr",
     "output_type": "stream",
     "text": [
      "Processed prompts: 100%|██████████| 1/1 [00:00<00:00,  7.86it/s]\n",
      "Processed prompts: 100%|██████████| 1/1 [00:00<00:00,  7.87it/s]\n",
      "Processed prompts: 100%|██████████| 1/1 [00:00<00:00,  7.87it/s]\n",
      "Processed prompts: 100%|██████████| 1/1 [00:00<00:00,  7.74it/s]\n",
      "Processed prompts: 100%|██████████| 1/1 [00:00<00:00,  7.86it/s]\n",
      "Processed prompts: 100%|██████████| 1/1 [00:00<00:00,  7.85it/s]\n",
      "Processed prompts: 100%|██████████| 1/1 [00:00<00:00,  7.89it/s]\n",
      "Processed prompts: 100%|██████████| 1/1 [00:00<00:00,  7.86it/s]\n",
      "Processed prompts: 100%|██████████| 1/1 [00:00<00:00,  7.86it/s]\n",
      "Processed prompts: 100%|██████████| 1/1 [00:00<00:00,  7.89it/s]\n"
     ]
    },
    {
     "name": "stdout",
     "output_type": "stream",
     "text": [
      "\n",
      "----- Prompt Tokens: 512 -----\n",
      "Total time: 1.29s\n",
      "Total tokens: 5120 tokens\n",
      "Tput: 3958.28 tokens/sec\n",
      "\n"
     ]
    },
    {
     "name": "stderr",
     "output_type": "stream",
     "text": [
      "Processed prompts: 100%|██████████| 1/1 [00:00<00:00,  3.78it/s]\n",
      "Processed prompts: 100%|██████████| 1/1 [00:00<00:00,  3.79it/s]\n",
      "Processed prompts: 100%|██████████| 1/1 [00:00<00:00,  3.78it/s]\n",
      "Processed prompts: 100%|██████████| 1/1 [00:00<00:00,  3.78it/s]\n",
      "Processed prompts: 100%|██████████| 1/1 [00:00<00:00,  3.78it/s]\n",
      "Processed prompts: 100%|██████████| 1/1 [00:00<00:00,  3.78it/s]\n",
      "Processed prompts: 100%|██████████| 1/1 [00:00<00:00,  3.78it/s]\n",
      "Processed prompts: 100%|██████████| 1/1 [00:00<00:00,  3.78it/s]\n",
      "Processed prompts: 100%|██████████| 1/1 [00:00<00:00,  3.78it/s]\n",
      "Processed prompts: 100%|██████████| 1/1 [00:00<00:00,  3.78it/s]\n"
     ]
    },
    {
     "name": "stdout",
     "output_type": "stream",
     "text": [
      "\n",
      "----- Prompt Tokens: 1024 -----\n",
      "Total time: 2.67s\n",
      "Total tokens: 10240 tokens\n",
      "Tput: 3841.92 tokens/sec\n",
      "\n"
     ]
    },
    {
     "name": "stderr",
     "output_type": "stream",
     "text": [
      "Processed prompts: 100%|██████████| 1/1 [00:00<00:00,  2.02it/s]\n",
      "Processed prompts: 100%|██████████| 1/1 [00:00<00:00,  2.02it/s]\n",
      "Processed prompts: 100%|██████████| 1/1 [00:00<00:00,  2.02it/s]\n",
      "Processed prompts: 100%|██████████| 1/1 [00:00<00:00,  2.02it/s]\n",
      "Processed prompts: 100%|██████████| 1/1 [00:00<00:00,  2.02it/s]\n",
      "Processed prompts: 100%|██████████| 1/1 [00:00<00:00,  2.02it/s]\n",
      "Processed prompts: 100%|██████████| 1/1 [00:00<00:00,  2.02it/s]\n",
      "Processed prompts: 100%|██████████| 1/1 [00:00<00:00,  2.02it/s]\n",
      "Processed prompts: 100%|██████████| 1/1 [00:00<00:00,  2.02it/s]\n",
      "Processed prompts: 100%|██████████| 1/1 [00:00<00:00,  2.02it/s]\n"
     ]
    },
    {
     "name": "stdout",
     "output_type": "stream",
     "text": [
      "\n",
      "----- Prompt Tokens: 2048 -----\n",
      "Total time: 4.98s\n",
      "Total tokens: 20480 tokens\n",
      "Tput: 4116.02 tokens/sec\n",
      "\n"
     ]
    },
    {
     "name": "stderr",
     "output_type": "stream",
     "text": [
      "Processed prompts: 100%|██████████| 1/1 [00:00<00:00,  1.03it/s]\n",
      "Processed prompts: 100%|██████████| 1/1 [00:00<00:00,  1.03it/s]\n",
      "Processed prompts: 100%|██████████| 1/1 [00:00<00:00,  1.03it/s]\n",
      "Processed prompts: 100%|██████████| 1/1 [00:00<00:00,  1.03it/s]\n",
      "Processed prompts: 100%|██████████| 1/1 [00:00<00:00,  1.03it/s]\n",
      "Processed prompts: 100%|██████████| 1/1 [00:00<00:00,  1.03it/s]\n",
      "Processed prompts: 100%|██████████| 1/1 [00:00<00:00,  1.03it/s]\n",
      "Processed prompts: 100%|██████████| 1/1 [00:00<00:00,  1.03it/s]\n",
      "Processed prompts: 100%|██████████| 1/1 [00:00<00:00,  1.03it/s]\n",
      "Processed prompts: 100%|██████████| 1/1 [00:00<00:00,  1.03it/s]"
     ]
    },
    {
     "name": "stdout",
     "output_type": "stream",
     "text": [
      "\n",
      "----- Prompt Tokens: 4096 -----\n",
      "Total time: 9.78s\n",
      "Total tokens: 40960 tokens\n",
      "Tput: 4188.37 tokens/sec\n",
      "\n"
     ]
    },
    {
     "name": "stderr",
     "output_type": "stream",
     "text": [
      "\n"
     ]
    }
   ],
   "source": [
    "num_words_list = [16, 64, 128, 256, 512, 1024, 2048]\n",
    "\n",
    "for num_words in num_words_list:\n",
    "    get_prefill_tput(num_words, iterations=10)"
   ]
  }
 ],
 "metadata": {
  "kernelspec": {
   "display_name": "vllm-env",
   "language": "python",
   "name": "python3"
  },
  "language_info": {
   "codemirror_mode": {
    "name": "ipython",
    "version": 3
   },
   "file_extension": ".py",
   "mimetype": "text/x-python",
   "name": "python",
   "nbconvert_exporter": "python",
   "pygments_lexer": "ipython3",
   "version": "3.9.18"
  }
 },
 "nbformat": 4,
 "nbformat_minor": 2
}
